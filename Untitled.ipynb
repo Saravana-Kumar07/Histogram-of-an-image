{
 "cells": [
  {
   "cell_type": "code",
   "execution_count": 5,
   "id": "c00f17b0",
   "metadata": {},
   "outputs": [],
   "source": [
    "import cv2\n",
    "g=cv2.imread('eq.png',0)\n",
    "cv2.imshow('gray',g)\n",
    "equ = cv2.equalizeHist(g)\n",
    "cv2.imshow('Equalized image',equ)\n",
    "cv2.waitKey(0)\n",
    "cv2.destroyAllWindows()"
   ]
  },
  {
   "cell_type": "code",
   "execution_count": null,
   "id": "f99db267",
   "metadata": {},
   "outputs": [],
   "source": []
  }
 ],
 "metadata": {
  "kernelspec": {
   "display_name": "Python 3 (ipykernel)",
   "language": "python",
   "name": "python3"
  },
  "language_info": {
   "codemirror_mode": {
    "name": "ipython",
    "version": 3
   },
   "file_extension": ".py",
   "mimetype": "text/x-python",
   "name": "python",
   "nbconvert_exporter": "python",
   "pygments_lexer": "ipython3",
   "version": "3.8.12"
  }
 },
 "nbformat": 4,
 "nbformat_minor": 5
}
